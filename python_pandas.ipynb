{
 "cells": [
  {
   "cell_type": "markdown",
   "id": "1e9c4062",
   "metadata": {},
   "source": [
    "載入本章所需套件"
   ]
  },
  {
   "cell_type": "code",
   "execution_count": 2,
   "id": "4d437132",
   "metadata": {},
   "outputs": [],
   "source": [
    "# 以下兩行是畫圖用\n",
    "%matplotlib inline\n",
    "import matplotlib.pyplot as plt \n",
    "# 載入pandas套件\n",
    "import pandas as pd\n",
    "import numpy as np"
   ]
  },
  {
   "cell_type": "code",
   "execution_count": 3,
   "id": "35236df7",
   "metadata": {},
   "outputs": [
    {
     "name": "stdout",
     "output_type": "stream",
     "text": [
      "使用dict生成的DataFrame: \n",
      "     name  math  english\n",
      "0  Alice    98       95\n",
      "1    Bob    89       90\n",
      "2  Candy    95       92 \n",
      "\n",
      "使用list生成的DataFrame: \n",
      "        0   1   2\n",
      "0  Alice  98  95\n",
      "1    Bob  89  90\n",
      "2  Candy  95  92 \n",
      "\n",
      "使用list生成的DataFrame,並且加入columns: \n",
      "     name  math  english\n",
      "0  Alice    98       95\n",
      "1    Bob    89       90\n",
      "2  Candy    95       92 \n",
      "\n",
      "  student_name  student_math_score  student_englsh\n",
      "a        Alice                  98              95\n",
      "b          Bob                  89              90\n",
      "c        Candy                  95              92 \n",
      "\n"
     ]
    },
    {
     "data": {
      "text/html": [
       "<div>\n",
       "<style scoped>\n",
       "    .dataframe tbody tr th:only-of-type {\n",
       "        vertical-align: middle;\n",
       "    }\n",
       "\n",
       "    .dataframe tbody tr th {\n",
       "        vertical-align: top;\n",
       "    }\n",
       "\n",
       "    .dataframe thead th {\n",
       "        text-align: right;\n",
       "    }\n",
       "</style>\n",
       "<table border=\"1\" class=\"dataframe\">\n",
       "  <thead>\n",
       "    <tr style=\"text-align: right;\">\n",
       "      <th></th>\n",
       "      <th>student_name</th>\n",
       "      <th>student_math_score</th>\n",
       "      <th>student_englsh</th>\n",
       "    </tr>\n",
       "  </thead>\n",
       "  <tbody>\n",
       "    <tr>\n",
       "      <th>a</th>\n",
       "      <td>Alice</td>\n",
       "      <td>98</td>\n",
       "      <td>95</td>\n",
       "    </tr>\n",
       "    <tr>\n",
       "      <th>b</th>\n",
       "      <td>Bob</td>\n",
       "      <td>89</td>\n",
       "      <td>90</td>\n",
       "    </tr>\n",
       "  </tbody>\n",
       "</table>\n",
       "</div>"
      ],
      "text/plain": [
       "  student_name  student_math_score  student_englsh\n",
       "a        Alice                  98              95\n",
       "b          Bob                  89              90"
      ]
     },
     "execution_count": 3,
     "metadata": {},
     "output_type": "execute_result"
    }
   ],
   "source": [
    "grades_dict={'name':['Alice','Bob','Candy'],\n",
    "        \"math\":[98,89,95],\n",
    "        \"english\":[95,90,92],}\n",
    "\n",
    "df_dict=pd.DataFrame(grades_dict)\n",
    "print(\"使用dict生成的DataFrame:\",\"\\n\",df_dict,\"\\n\")\n",
    "\n",
    "grades_list=[['Alice',98,95],\n",
    "                ['Bob',89,90],\n",
    "                ['Candy',95,92]]\n",
    "df_list=pd.DataFrame(grades_list)\n",
    "print(\"使用list生成的DataFrame:\",\"\\n\",df_list,\"\\n\")\n",
    "df_list.columns=['name','math','english']\n",
    "print(\"使用list生成的DataFrame,並且加入columns:\",\"\\n\",df_list,\"\\n\")\n",
    "\n",
    "df_dict.index=['a','b','c']#加入index\n",
    "df_dict.columns=['student_name','student_math_score','student_englsh']#加入index\n",
    "print(df_dict,\"\\n\")\n",
    "\n",
    "df_dict.head(2)"
   ]
  },
  {
   "cell_type": "markdown",
   "id": "9f6095a7",
   "metadata": {},
   "source": [
    "2-1 創立DataFrame"
   ]
  },
  {
   "cell_type": "markdown",
   "id": "591f20a1",
   "metadata": {},
   "source": [
    "範例2-1"
   ]
  },
  {
   "cell_type": "code",
   "execution_count": 4,
   "id": "fe7607ba",
   "metadata": {},
   "outputs": [
    {
     "name": "stdout",
     "output_type": "stream",
     "text": [
      "{'Math': [90, 50, 70, 80], 'English': [60, 70, 90, 50], 'History': [33, 75, 88, 60]}\n"
     ]
    },
    {
     "data": {
      "text/html": [
       "<div>\n",
       "<style scoped>\n",
       "    .dataframe tbody tr th:only-of-type {\n",
       "        vertical-align: middle;\n",
       "    }\n",
       "\n",
       "    .dataframe tbody tr th {\n",
       "        vertical-align: top;\n",
       "    }\n",
       "\n",
       "    .dataframe thead th {\n",
       "        text-align: right;\n",
       "    }\n",
       "</style>\n",
       "<table border=\"1\" class=\"dataframe\">\n",
       "  <thead>\n",
       "    <tr style=\"text-align: right;\">\n",
       "      <th></th>\n",
       "      <th>Math</th>\n",
       "      <th>English</th>\n",
       "      <th>History</th>\n",
       "    </tr>\n",
       "  </thead>\n",
       "  <tbody>\n",
       "    <tr>\n",
       "      <th>0</th>\n",
       "      <td>90</td>\n",
       "      <td>60</td>\n",
       "      <td>33</td>\n",
       "    </tr>\n",
       "    <tr>\n",
       "      <th>1</th>\n",
       "      <td>50</td>\n",
       "      <td>70</td>\n",
       "      <td>75</td>\n",
       "    </tr>\n",
       "    <tr>\n",
       "      <th>2</th>\n",
       "      <td>70</td>\n",
       "      <td>90</td>\n",
       "      <td>88</td>\n",
       "    </tr>\n",
       "    <tr>\n",
       "      <th>3</th>\n",
       "      <td>80</td>\n",
       "      <td>50</td>\n",
       "      <td>60</td>\n",
       "    </tr>\n",
       "  </tbody>\n",
       "</table>\n",
       "</div>"
      ],
      "text/plain": [
       "   Math  English  History\n",
       "0    90       60       33\n",
       "1    50       70       75\n",
       "2    70       90       88\n",
       "3    80       50       60"
      ]
     },
     "execution_count": 4,
     "metadata": {},
     "output_type": "execute_result"
    }
   ],
   "source": [
    "# {:,:,:,:} 是字典的資料類型\n",
    "scores = {'Math':[90,50,70,80],\n",
    "          'English':[60,70,90,50],\n",
    "          'History':[33,75,88,60]}\n",
    "print(scores)\n",
    "\n",
    "# .DataFrame(資料) 將資料類型轉為 DataFrame 類型之指令\n",
    "df = pd.DataFrame(scores)\n",
    "df"
   ]
  },
  {
   "cell_type": "markdown",
   "id": "d1d6a7b6",
   "metadata": {},
   "source": [
    "範例2-2"
   ]
  },
  {
   "cell_type": "code",
   "execution_count": 5,
   "id": "1f4c1efe",
   "metadata": {},
   "outputs": [
    {
     "data": {
      "text/plain": [
       "array([90, 50, 70, 80], dtype=int64)"
      ]
     },
     "execution_count": 5,
     "metadata": {},
     "output_type": "execute_result"
    }
   ],
   "source": [
    "# .index 為設定 列索引鍵 之指令\n",
    "df.index= ['Simon','Allen','Jimmy','Peter']\n",
    "df\n",
    "#df['Math'].values"
   ]
  },
  {
   "cell_type": "markdown",
   "id": "25a957df",
   "metadata": {},
   "source": [
    "2-2 DataFrame裡幾個重要的屬性"
   ]
  },
  {
   "cell_type": "markdown",
   "id": "0ec10072",
   "metadata": {},
   "source": [
    "範例2-3"
   ]
  },
  {
   "cell_type": "code",
   "execution_count": 6,
   "id": "665fb08d",
   "metadata": {},
   "outputs": [
    {
     "data": {
      "text/plain": [
       "Index(['Simon', 'Allen', 'Jimmy', 'Peter'], dtype='object')"
      ]
     },
     "execution_count": 6,
     "metadata": {},
     "output_type": "execute_result"
    }
   ],
   "source": [
    "df.index"
   ]
  },
  {
   "cell_type": "markdown",
   "id": "eb33706f",
   "metadata": {},
   "source": [
    "範例2-4"
   ]
  },
  {
   "cell_type": "code",
   "execution_count": 7,
   "id": "299fe34c",
   "metadata": {},
   "outputs": [
    {
     "data": {
      "text/plain": [
       "Index(['Math', 'English', 'History'], dtype='object')"
      ]
     },
     "execution_count": 7,
     "metadata": {},
     "output_type": "execute_result"
    }
   ],
   "source": [
    "df.columns"
   ]
  },
  {
   "cell_type": "markdown",
   "id": "4facd847",
   "metadata": {},
   "source": [
    "範例2-5"
   ]
  },
  {
   "cell_type": "code",
   "execution_count": 8,
   "id": "fe162d1c",
   "metadata": {},
   "outputs": [
    {
     "data": {
      "text/plain": [
       "array([[90, 60, 33],\n",
       "       [50, 70, 75],\n",
       "       [70, 90, 88],\n",
       "       [80, 50, 60]], dtype=int64)"
      ]
     },
     "execution_count": 8,
     "metadata": {},
     "output_type": "execute_result"
    }
   ],
   "source": [
    "df.values"
   ]
  },
  {
   "cell_type": "markdown",
   "id": "6e630957",
   "metadata": {},
   "source": [
    "範例2-6"
   ]
  },
  {
   "cell_type": "code",
   "execution_count": 9,
   "id": "2dbb43b2",
   "metadata": {},
   "outputs": [
    {
     "data": {
      "text/plain": [
       "(4, 3)"
      ]
     },
     "execution_count": 9,
     "metadata": {},
     "output_type": "execute_result"
    }
   ],
   "source": [
    "df.shape"
   ]
  },
  {
   "cell_type": "markdown",
   "id": "b6355bac",
   "metadata": {},
   "source": [
    "範例2-6 改"
   ]
  },
  {
   "cell_type": "code",
   "execution_count": 10,
   "id": "6f6b170e",
   "metadata": {},
   "outputs": [
    {
     "name": "stdout",
     "output_type": "stream",
     "text": [
      "Rows: 4\n",
      "Columns: 3\n"
     ]
    }
   ],
   "source": [
    "Rows,Columns = df.shape\n",
    "print(\"Rows:\",Rows)\n",
    "print(\"Columns:\",Columns)"
   ]
  },
  {
   "cell_type": "markdown",
   "id": "5ae9e01e",
   "metadata": {},
   "source": [
    "範例2-7 df的資料都是int64\n",
    "df.dtype 是一个通常用於查看DataFrame中列的數據類型的屬性"
   ]
  },
  {
   "cell_type": "code",
   "execution_count": 11,
   "id": "840e5423",
   "metadata": {},
   "outputs": [
    {
     "data": {
      "text/plain": [
       "Math       int64\n",
       "English    int64\n",
       "History    int64\n",
       "dtype: object"
      ]
     },
     "execution_count": 11,
     "metadata": {},
     "output_type": "execute_result"
    }
   ],
   "source": [
    "df.dtypes"
   ]
  },
  {
   "cell_type": "markdown",
   "id": "a56801eb",
   "metadata": {},
   "source": [
    "2-3 一維和二維資料的差異"
   ]
  },
  {
   "cell_type": "markdown",
   "id": "d9100519",
   "metadata": {},
   "source": [
    "範例2-8"
   ]
  },
  {
   "cell_type": "code",
   "execution_count": 12,
   "id": "d054ba28",
   "metadata": {},
   "outputs": [
    {
     "name": "stdout",
     "output_type": "stream",
     "text": [
      "s的維度 (3,)\n"
     ]
    },
    {
     "data": {
      "text/plain": [
       "0    1\n",
       "1    2\n",
       "2    3\n",
       "dtype: int64"
      ]
     },
     "execution_count": 12,
     "metadata": {},
     "output_type": "execute_result"
    }
   ],
   "source": [
    "# 在Pandas中，一維的資料叫做 Series\n",
    "# pd.Series(資料) 是將資料類型轉換為 Series資料類型 的指令\n",
    "s=pd.Series([1,2,3])\n",
    "print(f's的維度 {s.shape}')\n",
    "s"
   ]
  },
  {
   "cell_type": "markdown",
   "id": "da476d96",
   "metadata": {},
   "source": [
    "範例2-9"
   ]
  },
  {
   "cell_type": "code",
   "execution_count": 13,
   "id": "edff6907",
   "metadata": {},
   "outputs": [
    {
     "name": "stdout",
     "output_type": "stream",
     "text": [
      "d的維度 (3, 1)\n"
     ]
    },
    {
     "data": {
      "text/html": [
       "<div>\n",
       "<style scoped>\n",
       "    .dataframe tbody tr th:only-of-type {\n",
       "        vertical-align: middle;\n",
       "    }\n",
       "\n",
       "    .dataframe tbody tr th {\n",
       "        vertical-align: top;\n",
       "    }\n",
       "\n",
       "    .dataframe thead th {\n",
       "        text-align: right;\n",
       "    }\n",
       "</style>\n",
       "<table border=\"1\" class=\"dataframe\">\n",
       "  <thead>\n",
       "    <tr style=\"text-align: right;\">\n",
       "      <th></th>\n",
       "      <th>0</th>\n",
       "    </tr>\n",
       "  </thead>\n",
       "  <tbody>\n",
       "    <tr>\n",
       "      <th>0</th>\n",
       "      <td>1</td>\n",
       "    </tr>\n",
       "    <tr>\n",
       "      <th>1</th>\n",
       "      <td>2</td>\n",
       "    </tr>\n",
       "    <tr>\n",
       "      <th>2</th>\n",
       "      <td>3</td>\n",
       "    </tr>\n",
       "  </tbody>\n",
       "</table>\n",
       "</div>"
      ],
      "text/plain": [
       "   0\n",
       "0  1\n",
       "1  2\n",
       "2  3"
      ]
     },
     "execution_count": 13,
     "metadata": {},
     "output_type": "execute_result"
    }
   ],
   "source": [
    "# 在Pandas中，二維的資料叫做 DataFrame\n",
    "d=s.to_frame()\n",
    "print(f'd的維度 {d.shape}')\n",
    "d"
   ]
  },
  {
   "cell_type": "markdown",
   "id": "26bb6c95",
   "metadata": {},
   "source": [
    "範例2-10 轉置"
   ]
  },
  {
   "cell_type": "code",
   "execution_count": 14,
   "id": "be942e84",
   "metadata": {},
   "outputs": [
    {
     "name": "stdout",
     "output_type": "stream",
     "text": [
      "t的維度 (1, 3)\n"
     ]
    },
    {
     "data": {
      "text/html": [
       "<div>\n",
       "<style scoped>\n",
       "    .dataframe tbody tr th:only-of-type {\n",
       "        vertical-align: middle;\n",
       "    }\n",
       "\n",
       "    .dataframe tbody tr th {\n",
       "        vertical-align: top;\n",
       "    }\n",
       "\n",
       "    .dataframe thead th {\n",
       "        text-align: right;\n",
       "    }\n",
       "</style>\n",
       "<table border=\"1\" class=\"dataframe\">\n",
       "  <thead>\n",
       "    <tr style=\"text-align: right;\">\n",
       "      <th></th>\n",
       "      <th>0</th>\n",
       "      <th>1</th>\n",
       "      <th>2</th>\n",
       "    </tr>\n",
       "  </thead>\n",
       "  <tbody>\n",
       "    <tr>\n",
       "      <th>0</th>\n",
       "      <td>1</td>\n",
       "      <td>2</td>\n",
       "      <td>3</td>\n",
       "    </tr>\n",
       "  </tbody>\n",
       "</table>\n",
       "</div>"
      ],
      "text/plain": [
       "   0  1  2\n",
       "0  1  2  3"
      ]
     },
     "execution_count": 14,
     "metadata": {},
     "output_type": "execute_result"
    }
   ],
   "source": [
    "t=d.T\n",
    "print(f't的維度 {t.shape}')\n",
    "t"
   ]
  },
  {
   "cell_type": "markdown",
   "id": "50244dca",
   "metadata": {},
   "source": [
    "範例2-11(注意\"print(f'np_a的維度 {np_a.shape}')\"內容)"
   ]
  },
  {
   "cell_type": "code",
   "execution_count": 15,
   "id": "268feaf0",
   "metadata": {},
   "outputs": [
    {
     "name": "stdout",
     "output_type": "stream",
     "text": [
      "[1, 2, 3]\n",
      "[1 2 3]\n",
      "np_a的維度 (3,)\n"
     ]
    },
    {
     "data": {
      "text/plain": [
       "(array([1, 2, 3]), numpy.ndarray)"
      ]
     },
     "execution_count": 15,
     "metadata": {},
     "output_type": "execute_result"
    }
   ],
   "source": [
    "# np.array(資料) 將資料類型轉為 數組 類型之指令\n",
    "List_A = [1,2,3] # 陣列 的資料類型\n",
    "np_a =np.array(List_A)  # 數組 的資料類型\n",
    "print(List_A)\n",
    "print(np_a)\n",
    "print(f'np_a的維度 {np_a.shape}')\n",
    "np_a,type(np_a)"
   ]
  },
  {
   "cell_type": "markdown",
   "id": "c0634900",
   "metadata": {},
   "source": [
    "範例2-12"
   ]
  },
  {
   "cell_type": "code",
   "execution_count": 16,
   "id": "edaa197e",
   "metadata": {},
   "outputs": [
    {
     "name": "stdout",
     "output_type": "stream",
     "text": [
      "[[1]\n",
      " [2]\n",
      " [3]]\n",
      "np_a2的維度 (3, 1)\n"
     ]
    },
    {
     "data": {
      "text/plain": [
       "array([[1],\n",
       "       [2],\n",
       "       [3]])"
      ]
     },
     "execution_count": 16,
     "metadata": {},
     "output_type": "execute_result"
    }
   ],
   "source": [
    "# .reshape(新維度) 資料維度 轉換指令\n",
    "np_a2 = np_a.reshape(3,1)\n",
    "print(np_a2)\n",
    "print(f'np_a2的維度 {np_a2.shape}')\n",
    "np_a2"
   ]
  },
  {
   "cell_type": "markdown",
   "id": "90ea9c44",
   "metadata": {},
   "source": [
    "範例2-13(.reshape(-1,1):第一個參數-1表列數電腦決定，第二個參數1表行數一行)"
   ]
  },
  {
   "cell_type": "code",
   "execution_count": 17,
   "id": "b3ad77da",
   "metadata": {},
   "outputs": [
    {
     "data": {
      "text/plain": [
       "array([1, 2, 3])"
      ]
     },
     "execution_count": 17,
     "metadata": {},
     "output_type": "execute_result"
    }
   ],
   "source": [
    "np_a.reshape(-1,1).shape\n",
    "np_a"
   ]
  },
  {
   "cell_type": "markdown",
   "id": "a7ec112f",
   "metadata": {},
   "source": [
    "範例2-14"
   ]
  },
  {
   "cell_type": "code",
   "execution_count": 18,
   "id": "85051c1c",
   "metadata": {},
   "outputs": [
    {
     "data": {
      "text/plain": [
       "((1, 3), array([1, 2, 3]))"
      ]
     },
     "execution_count": 18,
     "metadata": {},
     "output_type": "execute_result"
    }
   ],
   "source": [
    "np_a.reshape(1,-1).shape,np_a"
   ]
  },
  {
   "cell_type": "markdown",
   "id": "de11be47",
   "metadata": {},
   "source": [
    "範例2-15"
   ]
  },
  {
   "cell_type": "code",
   "execution_count": 19,
   "id": "b1495a96",
   "metadata": {},
   "outputs": [
    {
     "name": "stdout",
     "output_type": "stream",
     "text": [
      "List_B:\n",
      "[[1, 2, 3], [4, 5, 6]]\n",
      "np_a3:\n",
      "[[1 2 3]\n",
      " [4 5 6]]\n"
     ]
    },
    {
     "data": {
      "text/plain": [
       "(2, 3)"
      ]
     },
     "execution_count": 19,
     "metadata": {},
     "output_type": "execute_result"
    }
   ],
   "source": [
    "List_B = [[1,2,3],[4,5,6]] # 二維陣列 的資料類型\n",
    "np_a3 = np.array(List_B) # 轉成 二維數組 的資料類型\n",
    "print(\"List_B:\")\n",
    "print(List_B)\n",
    "print(\"np_a3:\")\n",
    "print(np_a3)\n",
    "np_a3.shape"
   ]
  },
  {
   "cell_type": "markdown",
   "id": "c2f3bcf0",
   "metadata": {},
   "source": [
    "範例2-16"
   ]
  },
  {
   "cell_type": "code",
   "execution_count": 20,
   "id": "a74caa4d",
   "metadata": {
    "scrolled": true
   },
   "outputs": [
    {
     "data": {
      "text/plain": [
       "(3,)"
      ]
     },
     "execution_count": 20,
     "metadata": {},
     "output_type": "execute_result"
    }
   ],
   "source": [
    "np_a2.reshape(-1).shape"
   ]
  },
  {
   "cell_type": "markdown",
   "id": "44a13e71",
   "metadata": {},
   "source": [
    "範例2-17(二維array轉一維)"
   ]
  },
  {
   "cell_type": "code",
   "execution_count": 21,
   "id": "b9c866f9",
   "metadata": {},
   "outputs": [
    {
     "data": {
      "text/plain": [
       "(3,)"
      ]
     },
     "execution_count": 21,
     "metadata": {},
     "output_type": "execute_result"
    }
   ],
   "source": [
    "np_a2.ravel().shape"
   ]
  },
  {
   "cell_type": "markdown",
   "id": "6a436584",
   "metadata": {},
   "source": [
    "2-4 NaN介紹"
   ]
  },
  {
   "cell_type": "markdown",
   "id": "3a093ed1",
   "metadata": {},
   "source": [
    "範例2-18"
   ]
  },
  {
   "cell_type": "code",
   "execution_count": 22,
   "id": "55214e7c",
   "metadata": {},
   "outputs": [
    {
     "data": {
      "text/plain": [
       "False"
      ]
     },
     "execution_count": 22,
     "metadata": {},
     "output_type": "execute_result"
    }
   ],
   "source": [
    "import numpy as np\n",
    "np.NaN == np.NaN"
   ]
  },
  {
   "cell_type": "markdown",
   "id": "52fa3675",
   "metadata": {},
   "source": [
    "範例2-19"
   ]
  },
  {
   "cell_type": "code",
   "execution_count": 23,
   "id": "c605c009",
   "metadata": {},
   "outputs": [
    {
     "data": {
      "text/plain": [
       "True"
      ]
     },
     "execution_count": 23,
     "metadata": {},
     "output_type": "execute_result"
    }
   ],
   "source": [
    "# 用 pd.isnull(A) 指令檢查 資料A 是否是遺漏值\n",
    "pd.isnull(np.NaN)"
   ]
  },
  {
   "cell_type": "markdown",
   "id": "65eca8ee",
   "metadata": {},
   "source": [
    "範例2-20"
   ]
  },
  {
   "cell_type": "code",
   "execution_count": 24,
   "id": "3903dad1",
   "metadata": {},
   "outputs": [
    {
     "data": {
      "text/plain": [
       "False"
      ]
     },
     "execution_count": 24,
     "metadata": {},
     "output_type": "execute_result"
    }
   ],
   "source": [
    "# 用 pd.notnull(A) 指令檢查 資料A 是否不是遺漏值\n",
    "pd.notnull(np.NaN)"
   ]
  },
  {
   "cell_type": "markdown",
   "id": "25b4c237",
   "metadata": {},
   "source": [
    "範例2-21"
   ]
  },
  {
   "cell_type": "code",
   "execution_count": 25,
   "id": "40f9b2d3",
   "metadata": {},
   "outputs": [
    {
     "data": {
      "text/html": [
       "<div>\n",
       "<style scoped>\n",
       "    .dataframe tbody tr th:only-of-type {\n",
       "        vertical-align: middle;\n",
       "    }\n",
       "\n",
       "    .dataframe tbody tr th {\n",
       "        vertical-align: top;\n",
       "    }\n",
       "\n",
       "    .dataframe thead th {\n",
       "        text-align: right;\n",
       "    }\n",
       "</style>\n",
       "<table border=\"1\" class=\"dataframe\">\n",
       "  <thead>\n",
       "    <tr style=\"text-align: right;\">\n",
       "      <th></th>\n",
       "      <th>Math</th>\n",
       "      <th>Eng lish</th>\n",
       "      <th>History</th>\n",
       "    </tr>\n",
       "  </thead>\n",
       "  <tbody>\n",
       "    <tr>\n",
       "      <th>Simon</th>\n",
       "      <td>90</td>\n",
       "      <td>60</td>\n",
       "      <td>33.0</td>\n",
       "    </tr>\n",
       "    <tr>\n",
       "      <th>Allen</th>\n",
       "      <td>50</td>\n",
       "      <td>70</td>\n",
       "      <td>NaN</td>\n",
       "    </tr>\n",
       "    <tr>\n",
       "      <th>Jimmy</th>\n",
       "      <td>70</td>\n",
       "      <td>90</td>\n",
       "      <td>NaN</td>\n",
       "    </tr>\n",
       "    <tr>\n",
       "      <th>Peter</th>\n",
       "      <td>80</td>\n",
       "      <td>50</td>\n",
       "      <td>60.0</td>\n",
       "    </tr>\n",
       "  </tbody>\n",
       "</table>\n",
       "</div>"
      ],
      "text/plain": [
       "       Math  Eng lish  History\n",
       "Simon    90        60     33.0\n",
       "Allen    50        70      NaN\n",
       "Jimmy    70        90      NaN\n",
       "Peter    80        50     60.0"
      ]
     },
     "execution_count": 25,
     "metadata": {},
     "output_type": "execute_result"
    }
   ],
   "source": [
    "scores = {'Math':[90,50,70,80],\n",
    "          'Eng lish':[60,70,90,50],\n",
    "          'History':[33,np.nan,np.nan,60]}\n",
    "\n",
    "df = pd.DataFrame(scores, index=['Simon','Allen','Jimmy','Peter'])\n",
    "df"
   ]
  },
  {
   "cell_type": "markdown",
   "id": "0bde389d",
   "metadata": {},
   "source": [
    "範例2-21 改"
   ]
  },
  {
   "cell_type": "code",
   "execution_count": 26,
   "id": "b263aaad",
   "metadata": {},
   "outputs": [
    {
     "data": {
      "text/html": [
       "<div>\n",
       "<style scoped>\n",
       "    .dataframe tbody tr th:only-of-type {\n",
       "        vertical-align: middle;\n",
       "    }\n",
       "\n",
       "    .dataframe tbody tr th {\n",
       "        vertical-align: top;\n",
       "    }\n",
       "\n",
       "    .dataframe thead th {\n",
       "        text-align: right;\n",
       "    }\n",
       "</style>\n",
       "<table border=\"1\" class=\"dataframe\">\n",
       "  <thead>\n",
       "    <tr style=\"text-align: right;\">\n",
       "      <th></th>\n",
       "      <th>Math</th>\n",
       "      <th>English</th>\n",
       "      <th>History</th>\n",
       "    </tr>\n",
       "  </thead>\n",
       "  <tbody>\n",
       "    <tr>\n",
       "      <th>Simon</th>\n",
       "      <td>90</td>\n",
       "      <td>60</td>\n",
       "      <td>33.0</td>\n",
       "    </tr>\n",
       "    <tr>\n",
       "      <th>Allen</th>\n",
       "      <td>50</td>\n",
       "      <td>70</td>\n",
       "      <td>NaN</td>\n",
       "    </tr>\n",
       "    <tr>\n",
       "      <th>Jimmy</th>\n",
       "      <td>70</td>\n",
       "      <td>90</td>\n",
       "      <td>NaN</td>\n",
       "    </tr>\n",
       "    <tr>\n",
       "      <th>Peter</th>\n",
       "      <td>80</td>\n",
       "      <td>50</td>\n",
       "      <td>60.0</td>\n",
       "    </tr>\n",
       "  </tbody>\n",
       "</table>\n",
       "</div>"
      ],
      "text/plain": [
       "       Math  English  History\n",
       "Simon    90       60     33.0\n",
       "Allen    50       70      NaN\n",
       "Jimmy    70       90      NaN\n",
       "Peter    80       50     60.0"
      ]
     },
     "execution_count": 26,
     "metadata": {},
     "output_type": "execute_result"
    }
   ],
   "source": [
    "scores = {'Math':[90,50,70,80],\n",
    "          'English':[60,70,90,50],\n",
    "          'History':[33,np.nan,np.nan,60]}\n",
    "\n",
    "df = pd.DataFrame(scores)\n",
    "df.index = ['Simon','Allen','Jimmy','Peter']\n",
    "df"
   ]
  },
  {
   "cell_type": "code",
   "execution_count": 27,
   "id": "490a4af9",
   "metadata": {},
   "outputs": [
    {
     "data": {
      "text/plain": [
       "Math       290.0\n",
       "English    270.0\n",
       "History     93.0\n",
       "dtype: float64"
      ]
     },
     "execution_count": 27,
     "metadata": {},
     "output_type": "execute_result"
    }
   ],
   "source": [
    "# 在 DataFrame 和 array 的資料類型中， .sum() 為計算總和值的指令\n",
    "df.sum()"
   ]
  },
  {
   "cell_type": "markdown",
   "id": "2cf38bb7",
   "metadata": {},
   "source": [
    "範例2-22"
   ]
  },
  {
   "cell_type": "code",
   "execution_count": 28,
   "id": "99989e08",
   "metadata": {},
   "outputs": [
    {
     "data": {
      "text/html": [
       "<div>\n",
       "<style scoped>\n",
       "    .dataframe tbody tr th:only-of-type {\n",
       "        vertical-align: middle;\n",
       "    }\n",
       "\n",
       "    .dataframe tbody tr th {\n",
       "        vertical-align: top;\n",
       "    }\n",
       "\n",
       "    .dataframe thead th {\n",
       "        text-align: right;\n",
       "    }\n",
       "</style>\n",
       "<table border=\"1\" class=\"dataframe\">\n",
       "  <thead>\n",
       "    <tr style=\"text-align: right;\">\n",
       "      <th></th>\n",
       "      <th>Math</th>\n",
       "      <th>English</th>\n",
       "      <th>History</th>\n",
       "    </tr>\n",
       "  </thead>\n",
       "  <tbody>\n",
       "    <tr>\n",
       "      <th>Simon</th>\n",
       "      <td>False</td>\n",
       "      <td>False</td>\n",
       "      <td>False</td>\n",
       "    </tr>\n",
       "    <tr>\n",
       "      <th>Allen</th>\n",
       "      <td>False</td>\n",
       "      <td>False</td>\n",
       "      <td>True</td>\n",
       "    </tr>\n",
       "    <tr>\n",
       "      <th>Jimmy</th>\n",
       "      <td>False</td>\n",
       "      <td>False</td>\n",
       "      <td>True</td>\n",
       "    </tr>\n",
       "    <tr>\n",
       "      <th>Peter</th>\n",
       "      <td>False</td>\n",
       "      <td>False</td>\n",
       "      <td>False</td>\n",
       "    </tr>\n",
       "  </tbody>\n",
       "</table>\n",
       "</div>"
      ],
      "text/plain": [
       "        Math  English  History\n",
       "Simon  False    False    False\n",
       "Allen  False    False     True\n",
       "Jimmy  False    False     True\n",
       "Peter  False    False    False"
      ]
     },
     "execution_count": 28,
     "metadata": {},
     "output_type": "execute_result"
    }
   ],
   "source": [
    "df.isnull()"
   ]
  },
  {
   "cell_type": "markdown",
   "id": "48013233",
   "metadata": {},
   "source": [
    "範例2-23"
   ]
  },
  {
   "cell_type": "code",
   "execution_count": 29,
   "id": "dc3b68c2",
   "metadata": {},
   "outputs": [
    {
     "data": {
      "text/plain": [
       "Math       0\n",
       "English    0\n",
       "History    2\n",
       "dtype: int64"
      ]
     },
     "execution_count": 29,
     "metadata": {},
     "output_type": "execute_result"
    }
   ],
   "source": [
    "df.isnull().sum()"
   ]
  },
  {
   "cell_type": "markdown",
   "id": "29615589",
   "metadata": {},
   "source": [
    "範例2-24"
   ]
  },
  {
   "cell_type": "code",
   "execution_count": 30,
   "id": "63b8ec6e",
   "metadata": {},
   "outputs": [
    {
     "data": {
      "text/plain": [
       "2"
      ]
     },
     "execution_count": 30,
     "metadata": {},
     "output_type": "execute_result"
    }
   ],
   "source": [
    "df.isnull().sum().sum()"
   ]
  },
  {
   "cell_type": "markdown",
   "id": "000181e9",
   "metadata": {},
   "source": [
    "範例2-25檢查某列有無null\n",
    "axis見2-6"
   ]
  },
  {
   "cell_type": "code",
   "execution_count": 31,
   "id": "7f0b983f",
   "metadata": {},
   "outputs": [
    {
     "data": {
      "text/plain": [
       "Simon    False\n",
       "Allen     True\n",
       "Jimmy     True\n",
       "Peter    False\n",
       "dtype: bool"
      ]
     },
     "execution_count": 31,
     "metadata": {},
     "output_type": "execute_result"
    }
   ],
   "source": [
    "df.isnull().any(axis=1)"
   ]
  },
  {
   "cell_type": "markdown",
   "id": "ad8135de",
   "metadata": {},
   "source": [
    "範例2-26因為加了isnull所以df內只顯示有null的"
   ]
  },
  {
   "cell_type": "code",
   "execution_count": 32,
   "id": "aa4aad29",
   "metadata": {},
   "outputs": [
    {
     "data": {
      "text/html": [
       "<div>\n",
       "<style scoped>\n",
       "    .dataframe tbody tr th:only-of-type {\n",
       "        vertical-align: middle;\n",
       "    }\n",
       "\n",
       "    .dataframe tbody tr th {\n",
       "        vertical-align: top;\n",
       "    }\n",
       "\n",
       "    .dataframe thead th {\n",
       "        text-align: right;\n",
       "    }\n",
       "</style>\n",
       "<table border=\"1\" class=\"dataframe\">\n",
       "  <thead>\n",
       "    <tr style=\"text-align: right;\">\n",
       "      <th></th>\n",
       "      <th>Math</th>\n",
       "      <th>English</th>\n",
       "      <th>History</th>\n",
       "    </tr>\n",
       "  </thead>\n",
       "  <tbody>\n",
       "    <tr>\n",
       "      <th>Allen</th>\n",
       "      <td>50</td>\n",
       "      <td>70</td>\n",
       "      <td>NaN</td>\n",
       "    </tr>\n",
       "    <tr>\n",
       "      <th>Jimmy</th>\n",
       "      <td>70</td>\n",
       "      <td>90</td>\n",
       "      <td>NaN</td>\n",
       "    </tr>\n",
       "  </tbody>\n",
       "</table>\n",
       "</div>"
      ],
      "text/plain": [
       "       Math  English  History\n",
       "Allen    50       70      NaN\n",
       "Jimmy    70       90      NaN"
      ]
     },
     "execution_count": 32,
     "metadata": {},
     "output_type": "execute_result"
    }
   ],
   "source": [
    "df[df.isnull().any(axis=1)]"
   ]
  },
  {
   "cell_type": "markdown",
   "id": "79017544",
   "metadata": {},
   "source": [
    "2-7節 篩選資料"
   ]
  },
  {
   "cell_type": "code",
   "execution_count": 33,
   "id": "bf40347f",
   "metadata": {},
   "outputs": [
    {
     "data": {
      "text/html": [
       "<div>\n",
       "<style scoped>\n",
       "    .dataframe tbody tr th:only-of-type {\n",
       "        vertical-align: middle;\n",
       "    }\n",
       "\n",
       "    .dataframe tbody tr th {\n",
       "        vertical-align: top;\n",
       "    }\n",
       "\n",
       "    .dataframe thead th {\n",
       "        text-align: right;\n",
       "    }\n",
       "</style>\n",
       "<table border=\"1\" class=\"dataframe\">\n",
       "  <thead>\n",
       "    <tr style=\"text-align: right;\">\n",
       "      <th></th>\n",
       "      <th>Math</th>\n",
       "      <th>English</th>\n",
       "      <th>History</th>\n",
       "    </tr>\n",
       "  </thead>\n",
       "  <tbody>\n",
       "    <tr>\n",
       "      <th>Allen</th>\n",
       "      <td>50</td>\n",
       "      <td>70</td>\n",
       "      <td>NaN</td>\n",
       "    </tr>\n",
       "    <tr>\n",
       "      <th>Jimmy</th>\n",
       "      <td>70</td>\n",
       "      <td>90</td>\n",
       "      <td>NaN</td>\n",
       "    </tr>\n",
       "  </tbody>\n",
       "</table>\n",
       "</div>"
      ],
      "text/plain": [
       "       Math  English  History\n",
       "Allen    50       70      NaN\n",
       "Jimmy    70       90      NaN"
      ]
     },
     "execution_count": 33,
     "metadata": {},
     "output_type": "execute_result"
    }
   ],
   "source": [
    "df[[False,True,True,False]]"
   ]
  },
  {
   "cell_type": "markdown",
   "id": "df34172f",
   "metadata": {},
   "source": [
    "2-5 如何定位和讀取 DataFrame 裡的元素"
   ]
  },
  {
   "cell_type": "markdown",
   "id": "5cddee69",
   "metadata": {},
   "source": [
    "先回顧 df"
   ]
  },
  {
   "cell_type": "code",
   "execution_count": 34,
   "id": "26872d77",
   "metadata": {},
   "outputs": [
    {
     "data": {
      "text/html": [
       "<div>\n",
       "<style scoped>\n",
       "    .dataframe tbody tr th:only-of-type {\n",
       "        vertical-align: middle;\n",
       "    }\n",
       "\n",
       "    .dataframe tbody tr th {\n",
       "        vertical-align: top;\n",
       "    }\n",
       "\n",
       "    .dataframe thead th {\n",
       "        text-align: right;\n",
       "    }\n",
       "</style>\n",
       "<table border=\"1\" class=\"dataframe\">\n",
       "  <thead>\n",
       "    <tr style=\"text-align: right;\">\n",
       "      <th></th>\n",
       "      <th>Math</th>\n",
       "      <th>English</th>\n",
       "      <th>History</th>\n",
       "    </tr>\n",
       "  </thead>\n",
       "  <tbody>\n",
       "    <tr>\n",
       "      <th>Simon</th>\n",
       "      <td>90</td>\n",
       "      <td>60</td>\n",
       "      <td>33.0</td>\n",
       "    </tr>\n",
       "    <tr>\n",
       "      <th>Allen</th>\n",
       "      <td>50</td>\n",
       "      <td>70</td>\n",
       "      <td>NaN</td>\n",
       "    </tr>\n",
       "    <tr>\n",
       "      <th>Jimmy</th>\n",
       "      <td>70</td>\n",
       "      <td>90</td>\n",
       "      <td>NaN</td>\n",
       "    </tr>\n",
       "    <tr>\n",
       "      <th>Peter</th>\n",
       "      <td>80</td>\n",
       "      <td>50</td>\n",
       "      <td>60.0</td>\n",
       "    </tr>\n",
       "  </tbody>\n",
       "</table>\n",
       "</div>"
      ],
      "text/plain": [
       "       Math  English  History\n",
       "Simon    90       60     33.0\n",
       "Allen    50       70      NaN\n",
       "Jimmy    70       90      NaN\n",
       "Peter    80       50     60.0"
      ]
     },
     "execution_count": 34,
     "metadata": {},
     "output_type": "execute_result"
    }
   ],
   "source": [
    "df"
   ]
  },
  {
   "cell_type": "markdown",
   "id": "99edb888",
   "metadata": {},
   "source": [
    "範例2-27 因為是一欄的結果，所以回傳值是一維的 Series"
   ]
  },
  {
   "cell_type": "code",
   "execution_count": 35,
   "id": "4abfbd27",
   "metadata": {},
   "outputs": [
    {
     "data": {
      "text/plain": [
       "Simon    60\n",
       "Allen    70\n",
       "Jimmy    90\n",
       "Peter    50\n",
       "Name: English, dtype: int64"
      ]
     },
     "execution_count": 35,
     "metadata": {},
     "output_type": "execute_result"
    }
   ],
   "source": [
    "# \n",
    "df['English']"
   ]
  },
  {
   "cell_type": "markdown",
   "id": "d6c9dace",
   "metadata": {},
   "source": [
    "範例2-28"
   ]
  },
  {
   "cell_type": "code",
   "execution_count": 36,
   "id": "6cf9dc83",
   "metadata": {},
   "outputs": [
    {
     "data": {
      "text/plain": [
       "Simon    60\n",
       "Allen    70\n",
       "Jimmy    90\n",
       "Peter    50\n",
       "Name: English, dtype: int64"
      ]
     },
     "execution_count": 36,
     "metadata": {},
     "output_type": "execute_result"
    }
   ],
   "source": [
    "# 欄位名稱有空格時，此方法不適用\n",
    "df.English#,df.Math"
   ]
  },
  {
   "cell_type": "markdown",
   "id": "af6a9c76",
   "metadata": {},
   "source": [
    "範例2-29"
   ]
  },
  {
   "cell_type": "code",
   "execution_count": 37,
   "id": "25cfa4e0",
   "metadata": {},
   "outputs": [
    {
     "data": {
      "text/html": [
       "<div>\n",
       "<style scoped>\n",
       "    .dataframe tbody tr th:only-of-type {\n",
       "        vertical-align: middle;\n",
       "    }\n",
       "\n",
       "    .dataframe tbody tr th {\n",
       "        vertical-align: top;\n",
       "    }\n",
       "\n",
       "    .dataframe thead th {\n",
       "        text-align: right;\n",
       "    }\n",
       "</style>\n",
       "<table border=\"1\" class=\"dataframe\">\n",
       "  <thead>\n",
       "    <tr style=\"text-align: right;\">\n",
       "      <th></th>\n",
       "      <th>English</th>\n",
       "      <th>Math</th>\n",
       "    </tr>\n",
       "  </thead>\n",
       "  <tbody>\n",
       "    <tr>\n",
       "      <th>Simon</th>\n",
       "      <td>60</td>\n",
       "      <td>90</td>\n",
       "    </tr>\n",
       "    <tr>\n",
       "      <th>Allen</th>\n",
       "      <td>70</td>\n",
       "      <td>50</td>\n",
       "    </tr>\n",
       "    <tr>\n",
       "      <th>Jimmy</th>\n",
       "      <td>90</td>\n",
       "      <td>70</td>\n",
       "    </tr>\n",
       "    <tr>\n",
       "      <th>Peter</th>\n",
       "      <td>50</td>\n",
       "      <td>80</td>\n",
       "    </tr>\n",
       "  </tbody>\n",
       "</table>\n",
       "</div>"
      ],
      "text/plain": [
       "       English  Math\n",
       "Simon       60    90\n",
       "Allen       70    50\n",
       "Jimmy       90    70\n",
       "Peter       50    80"
      ]
     },
     "execution_count": 37,
     "metadata": {},
     "output_type": "execute_result"
    }
   ],
   "source": [
    "# 取兩個以上的欄位值，用串列將欄位名稱包覆\n",
    "# 因為是多欄的結果，所以回傳值是二維的 Series\n",
    "df[['English','Math']]"
   ]
  },
  {
   "cell_type": "markdown",
   "id": "85b59659",
   "metadata": {},
   "source": [
    "範例2-30 與2-28不同"
   ]
  },
  {
   "cell_type": "code",
   "execution_count": 38,
   "id": "a2f8145c",
   "metadata": {},
   "outputs": [
    {
     "data": {
      "text/html": [
       "<div>\n",
       "<style scoped>\n",
       "    .dataframe tbody tr th:only-of-type {\n",
       "        vertical-align: middle;\n",
       "    }\n",
       "\n",
       "    .dataframe tbody tr th {\n",
       "        vertical-align: top;\n",
       "    }\n",
       "\n",
       "    .dataframe thead th {\n",
       "        text-align: right;\n",
       "    }\n",
       "</style>\n",
       "<table border=\"1\" class=\"dataframe\">\n",
       "  <thead>\n",
       "    <tr style=\"text-align: right;\">\n",
       "      <th></th>\n",
       "      <th>English</th>\n",
       "    </tr>\n",
       "  </thead>\n",
       "  <tbody>\n",
       "    <tr>\n",
       "      <th>Simon</th>\n",
       "      <td>60</td>\n",
       "    </tr>\n",
       "    <tr>\n",
       "      <th>Allen</th>\n",
       "      <td>70</td>\n",
       "    </tr>\n",
       "    <tr>\n",
       "      <th>Jimmy</th>\n",
       "      <td>90</td>\n",
       "    </tr>\n",
       "    <tr>\n",
       "      <th>Peter</th>\n",
       "      <td>50</td>\n",
       "    </tr>\n",
       "  </tbody>\n",
       "</table>\n",
       "</div>"
      ],
      "text/plain": [
       "       English\n",
       "Simon       60\n",
       "Allen       70\n",
       "Jimmy       90\n",
       "Peter       50"
      ]
     },
     "execution_count": 38,
     "metadata": {},
     "output_type": "execute_result"
    }
   ],
   "source": [
    "# 當DataFrame看見索引欄是串列時，它就會預設資料是二維的DataFrame\n",
    "df[['English']]"
   ]
  },
  {
   "cell_type": "markdown",
   "id": "dab27662",
   "metadata": {},
   "source": [
    "範例2-31 索引列名稱"
   ]
  },
  {
   "cell_type": "code",
   "execution_count": 39,
   "id": "5ca12257",
   "metadata": {},
   "outputs": [
    {
     "data": {
      "text/plain": [
       "Math       90.0\n",
       "English    60.0\n",
       "History    33.0\n",
       "Name: Simon, dtype: float64"
      ]
     },
     "execution_count": 39,
     "metadata": {},
     "output_type": "execute_result"
    }
   ],
   "source": [
    "# .loc 採用 索引列名稱 擷取資料\n",
    "# 回傳的資料是一維的 Series\n",
    "# 以下範例為擷取 Simon列 的資料\n",
    "df.loc['Simon']"
   ]
  },
  {
   "cell_type": "markdown",
   "id": "5f9410bc",
   "metadata": {},
   "source": [
    "範例2-32 索引列位置"
   ]
  },
  {
   "cell_type": "code",
   "execution_count": 40,
   "id": "e4543289",
   "metadata": {},
   "outputs": [
    {
     "data": {
      "text/plain": [
       "Math       90.0\n",
       "English    60.0\n",
       "History    33.0\n",
       "Name: Simon, dtype: float64"
      ]
     },
     "execution_count": 40,
     "metadata": {},
     "output_type": "execute_result"
    }
   ],
   "source": [
    "# .iloc 採用 索引列位置 擷取資料\n",
    "# 以下範例為擷取 第0列 的資料\n",
    "df.iloc[0]"
   ]
  },
  {
   "cell_type": "code",
   "execution_count": 41,
   "id": "7ce8fd2d",
   "metadata": {},
   "outputs": [
    {
     "data": {
      "text/plain": [
       "60"
      ]
     },
     "execution_count": 41,
     "metadata": {},
     "output_type": "execute_result"
    }
   ],
   "source": [
    "# .iloc 採用 資料位置 擷取資料\n",
    "# 以下範例為擷取 第0列,第1行 的資料\n",
    "df.iloc[0,1]"
   ]
  },
  {
   "cell_type": "code",
   "execution_count": 42,
   "id": "20762438",
   "metadata": {},
   "outputs": [
    {
     "name": "stdout",
     "output_type": "stream",
     "text": [
      "       Math  English  History\n",
      "Simon    90       60     33.0\n",
      "Allen    50       70      NaN\n",
      "Jimmy    70       90      NaN\n",
      "Peter    80       50     60.0 \n",
      "\n"
     ]
    },
    {
     "data": {
      "text/plain": [
       "60"
      ]
     },
     "execution_count": 42,
     "metadata": {},
     "output_type": "execute_result"
    }
   ],
   "source": [
    "# .iloc 採用 資料位置 擷取資料\n",
    "# 以下範例為擷取 第-4列,第-2行 的資料\n",
    "\"\"\"\n",
    "df.iloc[3,0]=101\n",
    "print(\"peter修改後:\")\n",
    "\"\"\"\n",
    "print(df,\"\\n\")\n",
    "df.iloc[-4,-2]"
   ]
  },
  {
   "cell_type": "code",
   "execution_count": 43,
   "id": "5b38f980",
   "metadata": {},
   "outputs": [
    {
     "data": {
      "text/html": [
       "<div>\n",
       "<style scoped>\n",
       "    .dataframe tbody tr th:only-of-type {\n",
       "        vertical-align: middle;\n",
       "    }\n",
       "\n",
       "    .dataframe tbody tr th {\n",
       "        vertical-align: top;\n",
       "    }\n",
       "\n",
       "    .dataframe thead th {\n",
       "        text-align: right;\n",
       "    }\n",
       "</style>\n",
       "<table border=\"1\" class=\"dataframe\">\n",
       "  <thead>\n",
       "    <tr style=\"text-align: right;\">\n",
       "      <th></th>\n",
       "      <th>Math</th>\n",
       "      <th>English</th>\n",
       "      <th>History</th>\n",
       "    </tr>\n",
       "  </thead>\n",
       "  <tbody>\n",
       "    <tr>\n",
       "      <th>Simon</th>\n",
       "      <td>90</td>\n",
       "      <td>70</td>\n",
       "      <td>33.0</td>\n",
       "    </tr>\n",
       "    <tr>\n",
       "      <th>Allen</th>\n",
       "      <td>50</td>\n",
       "      <td>70</td>\n",
       "      <td>NaN</td>\n",
       "    </tr>\n",
       "    <tr>\n",
       "      <th>Jimmy</th>\n",
       "      <td>70</td>\n",
       "      <td>90</td>\n",
       "      <td>NaN</td>\n",
       "    </tr>\n",
       "    <tr>\n",
       "      <th>Peter</th>\n",
       "      <td>80</td>\n",
       "      <td>50</td>\n",
       "      <td>60.0</td>\n",
       "    </tr>\n",
       "  </tbody>\n",
       "</table>\n",
       "</div>"
      ],
      "text/plain": [
       "       Math  English  History\n",
       "Simon    90       70     33.0\n",
       "Allen    50       70      NaN\n",
       "Jimmy    70       90      NaN\n",
       "Peter    80       50     60.0"
      ]
     },
     "execution_count": 43,
     "metadata": {},
     "output_type": "execute_result"
    }
   ],
   "source": [
    "# !!! 重要 !!!\n",
    "# 此部分之內容與 Homework2 相關\n",
    "# 請將 df 中，位置[0,1]之成績資料修改為 70 分\n",
    "# 並將結果輸出\n",
    "df.iloc[0,1]=70\n",
    "df"
   ]
  },
  {
   "cell_type": "code",
   "execution_count": 44,
   "id": "e0c9493c",
   "metadata": {},
   "outputs": [
    {
     "data": {
      "text/html": [
       "<div>\n",
       "<style scoped>\n",
       "    .dataframe tbody tr th:only-of-type {\n",
       "        vertical-align: middle;\n",
       "    }\n",
       "\n",
       "    .dataframe tbody tr th {\n",
       "        vertical-align: top;\n",
       "    }\n",
       "\n",
       "    .dataframe thead th {\n",
       "        text-align: right;\n",
       "    }\n",
       "</style>\n",
       "<table border=\"1\" class=\"dataframe\">\n",
       "  <thead>\n",
       "    <tr style=\"text-align: right;\">\n",
       "      <th></th>\n",
       "      <th>Math</th>\n",
       "      <th>English</th>\n",
       "      <th>History</th>\n",
       "    </tr>\n",
       "  </thead>\n",
       "  <tbody>\n",
       "    <tr>\n",
       "      <th>Simon</th>\n",
       "      <td>90</td>\n",
       "      <td>70</td>\n",
       "      <td>33.0</td>\n",
       "    </tr>\n",
       "    <tr>\n",
       "      <th>Allen</th>\n",
       "      <td>50</td>\n",
       "      <td>70</td>\n",
       "      <td>46.5</td>\n",
       "    </tr>\n",
       "    <tr>\n",
       "      <th>Jimmy</th>\n",
       "      <td>70</td>\n",
       "      <td>90</td>\n",
       "      <td>46.5</td>\n",
       "    </tr>\n",
       "    <tr>\n",
       "      <th>Peter</th>\n",
       "      <td>80</td>\n",
       "      <td>50</td>\n",
       "      <td>60.0</td>\n",
       "    </tr>\n",
       "  </tbody>\n",
       "</table>\n",
       "</div>"
      ],
      "text/plain": [
       "       Math  English  History\n",
       "Simon    90       70     33.0\n",
       "Allen    50       70     46.5\n",
       "Jimmy    70       90     46.5\n",
       "Peter    80       50     60.0"
      ]
     },
     "execution_count": 44,
     "metadata": {},
     "output_type": "execute_result"
    }
   ],
   "source": [
    "# !!! 重要 !!!\n",
    "# 此部分之內容與 Homework2 相關\n",
    "# 請將 df 中，NaN之成績資料修改為 該科目之平均分數\n",
    "# 並將結果輸出\n",
    "df.iloc[1,2]=(df.iloc[0,2]+df.iloc[3,2])/2\n",
    "df.iloc[2,2]=(df.iloc[0,2]+df.iloc[3,2])/2\n",
    "\n",
    "#df.iloc[1,2]=df.iloc[:,2].mean()\n",
    "#df.iloc[2,2]=df.iloc[:,2].mean()\n",
    "\n",
    "\"\"\"\n",
    "for i in range(0,len(df)):\n",
    "    for j in range(0,len(df.columns)):\n",
    "        if pd.isnull(df.iloc[i,j]):\n",
    "            df.iloc[i,j]=df.iloc[:,j].mean()\n",
    "\"\"\"\n",
    "df"
   ]
  },
  {
   "cell_type": "markdown",
   "id": "2f728031",
   "metadata": {},
   "source": [
    "df[ : ]使用方式"
   ]
  },
  {
   "cell_type": "code",
   "execution_count": 45,
   "id": "cb6c14d8",
   "metadata": {},
   "outputs": [
    {
     "data": {
      "text/plain": [
       "Simon    70\n",
       "Allen    70\n",
       "Jimmy    90\n",
       "Peter    50\n",
       "Name: English, dtype: int64"
      ]
     },
     "execution_count": 45,
     "metadata": {},
     "output_type": "execute_result"
    }
   ],
   "source": [
    "# .iloc 採用 資料位置 擷取資料\n",
    "# 以下範例為擷取 \":\"(所有列),第1行 的資料\n",
    "df.iloc[:,1]"
   ]
  },
  {
   "cell_type": "code",
   "execution_count": 46,
   "id": "262d1c3e",
   "metadata": {
    "scrolled": true
   },
   "outputs": [
    {
     "data": {
      "text/plain": [
       "Math       90.0\n",
       "English    70.0\n",
       "History    33.0\n",
       "Name: Simon, dtype: float64"
      ]
     },
     "execution_count": 46,
     "metadata": {},
     "output_type": "execute_result"
    }
   ],
   "source": [
    "# .iloc 採用 資料位置 擷取資料\n",
    "# 以下範例為擷取 第0列,所有行 的資料\n",
    "df.iloc[0,:]"
   ]
  },
  {
   "cell_type": "code",
   "execution_count": 47,
   "id": "87464e7a",
   "metadata": {},
   "outputs": [
    {
     "data": {
      "text/html": [
       "<div>\n",
       "<style scoped>\n",
       "    .dataframe tbody tr th:only-of-type {\n",
       "        vertical-align: middle;\n",
       "    }\n",
       "\n",
       "    .dataframe tbody tr th {\n",
       "        vertical-align: top;\n",
       "    }\n",
       "\n",
       "    .dataframe thead th {\n",
       "        text-align: right;\n",
       "    }\n",
       "</style>\n",
       "<table border=\"1\" class=\"dataframe\">\n",
       "  <thead>\n",
       "    <tr style=\"text-align: right;\">\n",
       "      <th></th>\n",
       "      <th>English</th>\n",
       "      <th>History</th>\n",
       "    </tr>\n",
       "  </thead>\n",
       "  <tbody>\n",
       "    <tr>\n",
       "      <th>Simon</th>\n",
       "      <td>70</td>\n",
       "      <td>33.0</td>\n",
       "    </tr>\n",
       "    <tr>\n",
       "      <th>Allen</th>\n",
       "      <td>70</td>\n",
       "      <td>46.5</td>\n",
       "    </tr>\n",
       "  </tbody>\n",
       "</table>\n",
       "</div>"
      ],
      "text/plain": [
       "       English  History\n",
       "Simon       70     33.0\n",
       "Allen       70     46.5"
      ]
     },
     "execution_count": 47,
     "metadata": {},
     "output_type": "execute_result"
    }
   ],
   "source": [
    "# .iloc 採用 資料位置 擷取資料\n",
    "# 以下範例為擷取 第0列至第1列,第1行至第2行 的資料\n",
    "df.iloc[0:2,1:3]"
   ]
  },
  {
   "cell_type": "code",
   "execution_count": 48,
   "id": "48a5729e",
   "metadata": {},
   "outputs": [
    {
     "data": {
      "text/html": [
       "<div>\n",
       "<style scoped>\n",
       "    .dataframe tbody tr th:only-of-type {\n",
       "        vertical-align: middle;\n",
       "    }\n",
       "\n",
       "    .dataframe tbody tr th {\n",
       "        vertical-align: top;\n",
       "    }\n",
       "\n",
       "    .dataframe thead th {\n",
       "        text-align: right;\n",
       "    }\n",
       "</style>\n",
       "<table border=\"1\" class=\"dataframe\">\n",
       "  <thead>\n",
       "    <tr style=\"text-align: right;\">\n",
       "      <th></th>\n",
       "      <th>Math</th>\n",
       "      <th>English</th>\n",
       "      <th>History</th>\n",
       "    </tr>\n",
       "  </thead>\n",
       "  <tbody>\n",
       "    <tr>\n",
       "      <th>Simon</th>\n",
       "      <td>90</td>\n",
       "      <td>70</td>\n",
       "      <td>33.0</td>\n",
       "    </tr>\n",
       "  </tbody>\n",
       "</table>\n",
       "</div>"
      ],
      "text/plain": [
       "       Math  English  History\n",
       "Simon    90       70     33.0"
      ]
     },
     "execution_count": 48,
     "metadata": {},
     "output_type": "execute_result"
    }
   ],
   "source": [
    "# 當DataFrame看見索引列是串列時，它就會預設資料是二維的DataFrame\n",
    "df.loc[['Simon']]"
   ]
  },
  {
   "cell_type": "code",
   "execution_count": 49,
   "id": "5a455ef9",
   "metadata": {},
   "outputs": [
    {
     "data": {
      "text/html": [
       "<div>\n",
       "<style scoped>\n",
       "    .dataframe tbody tr th:only-of-type {\n",
       "        vertical-align: middle;\n",
       "    }\n",
       "\n",
       "    .dataframe tbody tr th {\n",
       "        vertical-align: top;\n",
       "    }\n",
       "\n",
       "    .dataframe thead th {\n",
       "        text-align: right;\n",
       "    }\n",
       "</style>\n",
       "<table border=\"1\" class=\"dataframe\">\n",
       "  <thead>\n",
       "    <tr style=\"text-align: right;\">\n",
       "      <th></th>\n",
       "      <th>Math</th>\n",
       "      <th>English</th>\n",
       "      <th>History</th>\n",
       "    </tr>\n",
       "  </thead>\n",
       "  <tbody>\n",
       "    <tr>\n",
       "      <th>Simon</th>\n",
       "      <td>90</td>\n",
       "      <td>70</td>\n",
       "      <td>33.0</td>\n",
       "    </tr>\n",
       "  </tbody>\n",
       "</table>\n",
       "</div>"
      ],
      "text/plain": [
       "       Math  English  History\n",
       "Simon    90       70     33.0"
      ]
     },
     "execution_count": 49,
     "metadata": {},
     "output_type": "execute_result"
    }
   ],
   "source": [
    "# 當DataFrame看見索引列是串列時，它就會預設資料是二維的DataFrame\n",
    "df.iloc[[0]]"
   ]
  },
  {
   "cell_type": "markdown",
   "id": "4a438940",
   "metadata": {},
   "source": [
    "範例2-33"
   ]
  },
  {
   "cell_type": "code",
   "execution_count": 50,
   "id": "cbfa76c9",
   "metadata": {},
   "outputs": [
    {
     "data": {
      "text/html": [
       "<div>\n",
       "<style scoped>\n",
       "    .dataframe tbody tr th:only-of-type {\n",
       "        vertical-align: middle;\n",
       "    }\n",
       "\n",
       "    .dataframe tbody tr th {\n",
       "        vertical-align: top;\n",
       "    }\n",
       "\n",
       "    .dataframe thead th {\n",
       "        text-align: right;\n",
       "    }\n",
       "</style>\n",
       "<table border=\"1\" class=\"dataframe\">\n",
       "  <thead>\n",
       "    <tr style=\"text-align: right;\">\n",
       "      <th></th>\n",
       "      <th>Math</th>\n",
       "      <th>English</th>\n",
       "      <th>History</th>\n",
       "    </tr>\n",
       "  </thead>\n",
       "  <tbody>\n",
       "    <tr>\n",
       "      <th>Jimmy</th>\n",
       "      <td>70</td>\n",
       "      <td>90</td>\n",
       "      <td>46.5</td>\n",
       "    </tr>\n",
       "    <tr>\n",
       "      <th>Simon</th>\n",
       "      <td>90</td>\n",
       "      <td>70</td>\n",
       "      <td>33.0</td>\n",
       "    </tr>\n",
       "  </tbody>\n",
       "</table>\n",
       "</div>"
      ],
      "text/plain": [
       "       Math  English  History\n",
       "Jimmy    70       90     46.5\n",
       "Simon    90       70     33.0"
      ]
     },
     "execution_count": 50,
     "metadata": {},
     "output_type": "execute_result"
    }
   ],
   "source": [
    "# 取兩個以上的索引列值，用串列將索引列名稱包覆\n",
    "# 回傳的資料是二維的 DataFrame\n",
    "df.loc[['Jimmy','Simon']]"
   ]
  },
  {
   "cell_type": "markdown",
   "id": "0ab810ab",
   "metadata": {},
   "source": [
    "範例2-34"
   ]
  },
  {
   "cell_type": "code",
   "execution_count": 51,
   "id": "65014035",
   "metadata": {},
   "outputs": [
    {
     "data": {
      "text/html": [
       "<div>\n",
       "<style scoped>\n",
       "    .dataframe tbody tr th:only-of-type {\n",
       "        vertical-align: middle;\n",
       "    }\n",
       "\n",
       "    .dataframe tbody tr th {\n",
       "        vertical-align: top;\n",
       "    }\n",
       "\n",
       "    .dataframe thead th {\n",
       "        text-align: right;\n",
       "    }\n",
       "</style>\n",
       "<table border=\"1\" class=\"dataframe\">\n",
       "  <thead>\n",
       "    <tr style=\"text-align: right;\">\n",
       "      <th></th>\n",
       "      <th>Math</th>\n",
       "      <th>English</th>\n",
       "      <th>History</th>\n",
       "    </tr>\n",
       "  </thead>\n",
       "  <tbody>\n",
       "    <tr>\n",
       "      <th>Jimmy</th>\n",
       "      <td>70</td>\n",
       "      <td>90</td>\n",
       "      <td>46.5</td>\n",
       "    </tr>\n",
       "    <tr>\n",
       "      <th>Simon</th>\n",
       "      <td>90</td>\n",
       "      <td>70</td>\n",
       "      <td>33.0</td>\n",
       "    </tr>\n",
       "  </tbody>\n",
       "</table>\n",
       "</div>"
      ],
      "text/plain": [
       "       Math  English  History\n",
       "Jimmy    70       90     46.5\n",
       "Simon    90       70     33.0"
      ]
     },
     "execution_count": 51,
     "metadata": {},
     "output_type": "execute_result"
    }
   ],
   "source": [
    "# 在串列中，可以用 索引列座標 取代 索引列名稱\n",
    "# 在df中，Jimmy是第2列，Simon是第0列\n",
    "df.iloc[[2,0]]"
   ]
  },
  {
   "cell_type": "markdown",
   "id": "9fa42481",
   "metadata": {},
   "source": [
    "範例2-35"
   ]
  },
  {
   "cell_type": "code",
   "execution_count": 52,
   "id": "293d87b7",
   "metadata": {},
   "outputs": [
    {
     "data": {
      "text/html": [
       "<div>\n",
       "<style scoped>\n",
       "    .dataframe tbody tr th:only-of-type {\n",
       "        vertical-align: middle;\n",
       "    }\n",
       "\n",
       "    .dataframe tbody tr th {\n",
       "        vertical-align: top;\n",
       "    }\n",
       "\n",
       "    .dataframe thead th {\n",
       "        text-align: right;\n",
       "    }\n",
       "</style>\n",
       "<table border=\"1\" class=\"dataframe\">\n",
       "  <thead>\n",
       "    <tr style=\"text-align: right;\">\n",
       "      <th></th>\n",
       "      <th>Math</th>\n",
       "      <th>English</th>\n",
       "      <th>History</th>\n",
       "    </tr>\n",
       "  </thead>\n",
       "  <tbody>\n",
       "    <tr>\n",
       "      <th>Jimmy</th>\n",
       "      <td>70</td>\n",
       "      <td>90</td>\n",
       "      <td>46.5</td>\n",
       "    </tr>\n",
       "    <tr>\n",
       "      <th>Peter</th>\n",
       "      <td>80</td>\n",
       "      <td>50</td>\n",
       "      <td>60.0</td>\n",
       "    </tr>\n",
       "  </tbody>\n",
       "</table>\n",
       "</div>"
      ],
      "text/plain": [
       "       Math  English  History\n",
       "Jimmy    70       90     46.5\n",
       "Peter    80       50     60.0"
      ]
     },
     "execution_count": 52,
     "metadata": {},
     "output_type": "execute_result"
    }
   ],
   "source": [
    "df.iloc[-2:]#位置-2之後的"
   ]
  },
  {
   "cell_type": "code",
   "execution_count": 53,
   "id": "cc972796",
   "metadata": {},
   "outputs": [
    {
     "data": {
      "text/html": [
       "<div>\n",
       "<style scoped>\n",
       "    .dataframe tbody tr th:only-of-type {\n",
       "        vertical-align: middle;\n",
       "    }\n",
       "\n",
       "    .dataframe tbody tr th {\n",
       "        vertical-align: top;\n",
       "    }\n",
       "\n",
       "    .dataframe thead th {\n",
       "        text-align: right;\n",
       "    }\n",
       "</style>\n",
       "<table border=\"1\" class=\"dataframe\">\n",
       "  <thead>\n",
       "    <tr style=\"text-align: right;\">\n",
       "      <th></th>\n",
       "      <th>Math</th>\n",
       "      <th>English</th>\n",
       "      <th>History</th>\n",
       "    </tr>\n",
       "  </thead>\n",
       "  <tbody>\n",
       "    <tr>\n",
       "      <th>Simon</th>\n",
       "      <td>90</td>\n",
       "      <td>70</td>\n",
       "      <td>33.0</td>\n",
       "    </tr>\n",
       "    <tr>\n",
       "      <th>Allen</th>\n",
       "      <td>50</td>\n",
       "      <td>70</td>\n",
       "      <td>46.5</td>\n",
       "    </tr>\n",
       "  </tbody>\n",
       "</table>\n",
       "</div>"
      ],
      "text/plain": [
       "       Math  English  History\n",
       "Simon    90       70     33.0\n",
       "Allen    50       70     46.5"
      ]
     },
     "execution_count": 53,
     "metadata": {},
     "output_type": "execute_result"
    }
   ],
   "source": [
    "df.iloc[:-2]"
   ]
  },
  {
   "cell_type": "markdown",
   "id": "1c0fb4c3",
   "metadata": {},
   "source": [
    "範例2-36"
   ]
  },
  {
   "cell_type": "code",
   "execution_count": 54,
   "id": "6f3b7c49",
   "metadata": {},
   "outputs": [
    {
     "data": {
      "text/plain": [
       "Simon    90\n",
       "Allen    50\n",
       "Jimmy    70\n",
       "Peter    80\n",
       "Name: Math, dtype: int64"
      ]
     },
     "execution_count": 54,
     "metadata": {},
     "output_type": "execute_result"
    }
   ],
   "source": [
    "df.loc[:,'Math']"
   ]
  },
  {
   "cell_type": "markdown",
   "id": "20152541",
   "metadata": {},
   "source": [
    "範例2-37"
   ]
  },
  {
   "cell_type": "code",
   "execution_count": 55,
   "id": "b55cee2e",
   "metadata": {},
   "outputs": [
    {
     "data": {
      "text/html": [
       "<div>\n",
       "<style scoped>\n",
       "    .dataframe tbody tr th:only-of-type {\n",
       "        vertical-align: middle;\n",
       "    }\n",
       "\n",
       "    .dataframe tbody tr th {\n",
       "        vertical-align: top;\n",
       "    }\n",
       "\n",
       "    .dataframe thead th {\n",
       "        text-align: right;\n",
       "    }\n",
       "</style>\n",
       "<table border=\"1\" class=\"dataframe\">\n",
       "  <thead>\n",
       "    <tr style=\"text-align: right;\">\n",
       "      <th></th>\n",
       "      <th>English</th>\n",
       "      <th>History</th>\n",
       "    </tr>\n",
       "  </thead>\n",
       "  <tbody>\n",
       "    <tr>\n",
       "      <th>Jimmy</th>\n",
       "      <td>90</td>\n",
       "      <td>46.5</td>\n",
       "    </tr>\n",
       "    <tr>\n",
       "      <th>Simon</th>\n",
       "      <td>70</td>\n",
       "      <td>33.0</td>\n",
       "    </tr>\n",
       "  </tbody>\n",
       "</table>\n",
       "</div>"
      ],
      "text/plain": [
       "       English  History\n",
       "Jimmy       90     46.5\n",
       "Simon       70     33.0"
      ]
     },
     "execution_count": 55,
     "metadata": {},
     "output_type": "execute_result"
    }
   ],
   "source": [
    "df.loc[['Jimmy','Simon']][['English','History']]"
   ]
  },
  {
   "cell_type": "markdown",
   "id": "20051981",
   "metadata": {},
   "source": [
    "範例2-38"
   ]
  },
  {
   "cell_type": "code",
   "execution_count": 56,
   "id": "deaff078",
   "metadata": {},
   "outputs": [
    {
     "data": {
      "text/html": [
       "<div>\n",
       "<style scoped>\n",
       "    .dataframe tbody tr th:only-of-type {\n",
       "        vertical-align: middle;\n",
       "    }\n",
       "\n",
       "    .dataframe tbody tr th {\n",
       "        vertical-align: top;\n",
       "    }\n",
       "\n",
       "    .dataframe thead th {\n",
       "        text-align: right;\n",
       "    }\n",
       "</style>\n",
       "<table border=\"1\" class=\"dataframe\">\n",
       "  <thead>\n",
       "    <tr style=\"text-align: right;\">\n",
       "      <th></th>\n",
       "      <th>English</th>\n",
       "      <th>History</th>\n",
       "    </tr>\n",
       "  </thead>\n",
       "  <tbody>\n",
       "    <tr>\n",
       "      <th>Jimmy</th>\n",
       "      <td>90</td>\n",
       "      <td>46.5</td>\n",
       "    </tr>\n",
       "    <tr>\n",
       "      <th>Simon</th>\n",
       "      <td>70</td>\n",
       "      <td>33.0</td>\n",
       "    </tr>\n",
       "  </tbody>\n",
       "</table>\n",
       "</div>"
      ],
      "text/plain": [
       "       English  History\n",
       "Jimmy       90     46.5\n",
       "Simon       70     33.0"
      ]
     },
     "execution_count": 56,
     "metadata": {},
     "output_type": "execute_result"
    }
   ],
   "source": [
    "df.loc[['Jimmy','Simon'],['English','History']]"
   ]
  },
  {
   "cell_type": "markdown",
   "id": "e6912567",
   "metadata": {},
   "source": [
    "範例2-39"
   ]
  },
  {
   "cell_type": "code",
   "execution_count": 57,
   "id": "cecd756b",
   "metadata": {},
   "outputs": [
    {
     "data": {
      "text/html": [
       "<div>\n",
       "<style scoped>\n",
       "    .dataframe tbody tr th:only-of-type {\n",
       "        vertical-align: middle;\n",
       "    }\n",
       "\n",
       "    .dataframe tbody tr th {\n",
       "        vertical-align: top;\n",
       "    }\n",
       "\n",
       "    .dataframe thead th {\n",
       "        text-align: right;\n",
       "    }\n",
       "</style>\n",
       "<table border=\"1\" class=\"dataframe\">\n",
       "  <thead>\n",
       "    <tr style=\"text-align: right;\">\n",
       "      <th></th>\n",
       "      <th>English</th>\n",
       "      <th>History</th>\n",
       "    </tr>\n",
       "  </thead>\n",
       "  <tbody>\n",
       "    <tr>\n",
       "      <th>Simon</th>\n",
       "      <td>70</td>\n",
       "      <td>33.0</td>\n",
       "    </tr>\n",
       "    <tr>\n",
       "      <th>Allen</th>\n",
       "      <td>70</td>\n",
       "      <td>46.5</td>\n",
       "    </tr>\n",
       "    <tr>\n",
       "      <th>Jimmy</th>\n",
       "      <td>90</td>\n",
       "      <td>46.5</td>\n",
       "    </tr>\n",
       "    <tr>\n",
       "      <th>Peter</th>\n",
       "      <td>50</td>\n",
       "      <td>60.0</td>\n",
       "    </tr>\n",
       "  </tbody>\n",
       "</table>\n",
       "</div>"
      ],
      "text/plain": [
       "       English  History\n",
       "Simon       70     33.0\n",
       "Allen       70     46.5\n",
       "Jimmy       90     46.5\n",
       "Peter       50     60.0"
      ]
     },
     "execution_count": 57,
     "metadata": {},
     "output_type": "execute_result"
    }
   ],
   "source": [
    "df.loc[:,'English':'History']"
   ]
  },
  {
   "cell_type": "markdown",
   "id": "448f23c0",
   "metadata": {},
   "source": [
    "2-6 介紹 axis 的概念 \n",
    "axis=0表axis='row'"
   ]
  },
  {
   "cell_type": "markdown",
   "id": "b78af199",
   "metadata": {},
   "source": [
    "範例2-40 axis='row'表每個row計算df.mean"
   ]
  },
  {
   "cell_type": "code",
   "execution_count": 58,
   "id": "74ab3e2b",
   "metadata": {},
   "outputs": [
    {
     "data": {
      "text/html": [
       "<div>\n",
       "<style scoped>\n",
       "    .dataframe tbody tr th:only-of-type {\n",
       "        vertical-align: middle;\n",
       "    }\n",
       "\n",
       "    .dataframe tbody tr th {\n",
       "        vertical-align: top;\n",
       "    }\n",
       "\n",
       "    .dataframe thead th {\n",
       "        text-align: right;\n",
       "    }\n",
       "</style>\n",
       "<table border=\"1\" class=\"dataframe\">\n",
       "  <thead>\n",
       "    <tr style=\"text-align: right;\">\n",
       "      <th></th>\n",
       "      <th>Math</th>\n",
       "      <th>English</th>\n",
       "      <th>History</th>\n",
       "      <th>個人平均</th>\n",
       "    </tr>\n",
       "  </thead>\n",
       "  <tbody>\n",
       "    <tr>\n",
       "      <th>Simon</th>\n",
       "      <td>90</td>\n",
       "      <td>70</td>\n",
       "      <td>33.0</td>\n",
       "      <td>64.333333</td>\n",
       "    </tr>\n",
       "    <tr>\n",
       "      <th>Allen</th>\n",
       "      <td>50</td>\n",
       "      <td>70</td>\n",
       "      <td>46.5</td>\n",
       "      <td>55.500000</td>\n",
       "    </tr>\n",
       "    <tr>\n",
       "      <th>Jimmy</th>\n",
       "      <td>70</td>\n",
       "      <td>90</td>\n",
       "      <td>46.5</td>\n",
       "      <td>68.833333</td>\n",
       "    </tr>\n",
       "    <tr>\n",
       "      <th>Peter</th>\n",
       "      <td>80</td>\n",
       "      <td>50</td>\n",
       "      <td>60.0</td>\n",
       "      <td>63.333333</td>\n",
       "    </tr>\n",
       "  </tbody>\n",
       "</table>\n",
       "</div>"
      ],
      "text/plain": [
       "       Math  English  History       個人平均\n",
       "Simon    90       70     33.0  64.333333\n",
       "Allen    50       70     46.5  55.500000\n",
       "Jimmy    70       90     46.5  68.833333\n",
       "Peter    80       50     60.0  63.333333"
      ]
     },
     "execution_count": 58,
     "metadata": {},
     "output_type": "execute_result"
    }
   ],
   "source": [
    "df['個人平均'] = df.mean(axis=1)\n",
    "df"
   ]
  },
  {
   "cell_type": "markdown",
   "id": "68cd9cab",
   "metadata": {},
   "source": [
    "範例2-41 axis=1表axis='column'"
   ]
  },
  {
   "cell_type": "code",
   "execution_count": 59,
   "id": "a828ff7f",
   "metadata": {},
   "outputs": [
    {
     "data": {
      "text/html": [
       "<div>\n",
       "<style scoped>\n",
       "    .dataframe tbody tr th:only-of-type {\n",
       "        vertical-align: middle;\n",
       "    }\n",
       "\n",
       "    .dataframe tbody tr th {\n",
       "        vertical-align: top;\n",
       "    }\n",
       "\n",
       "    .dataframe thead th {\n",
       "        text-align: right;\n",
       "    }\n",
       "</style>\n",
       "<table border=\"1\" class=\"dataframe\">\n",
       "  <thead>\n",
       "    <tr style=\"text-align: right;\">\n",
       "      <th></th>\n",
       "      <th>Math</th>\n",
       "      <th>English</th>\n",
       "      <th>History</th>\n",
       "      <th>個人平均</th>\n",
       "    </tr>\n",
       "  </thead>\n",
       "  <tbody>\n",
       "    <tr>\n",
       "      <th>Simon</th>\n",
       "      <td>90.0</td>\n",
       "      <td>70.0</td>\n",
       "      <td>33.0</td>\n",
       "      <td>64.333333</td>\n",
       "    </tr>\n",
       "    <tr>\n",
       "      <th>Allen</th>\n",
       "      <td>50.0</td>\n",
       "      <td>70.0</td>\n",
       "      <td>46.5</td>\n",
       "      <td>55.500000</td>\n",
       "    </tr>\n",
       "    <tr>\n",
       "      <th>Jimmy</th>\n",
       "      <td>70.0</td>\n",
       "      <td>90.0</td>\n",
       "      <td>46.5</td>\n",
       "      <td>68.833333</td>\n",
       "    </tr>\n",
       "    <tr>\n",
       "      <th>Peter</th>\n",
       "      <td>80.0</td>\n",
       "      <td>50.0</td>\n",
       "      <td>60.0</td>\n",
       "      <td>63.333333</td>\n",
       "    </tr>\n",
       "    <tr>\n",
       "      <th>各科平均</th>\n",
       "      <td>72.5</td>\n",
       "      <td>70.0</td>\n",
       "      <td>46.5</td>\n",
       "      <td>63.000000</td>\n",
       "    </tr>\n",
       "  </tbody>\n",
       "</table>\n",
       "</div>"
      ],
      "text/plain": [
       "       Math  English  History       個人平均\n",
       "Simon  90.0     70.0     33.0  64.333333\n",
       "Allen  50.0     70.0     46.5  55.500000\n",
       "Jimmy  70.0     90.0     46.5  68.833333\n",
       "Peter  80.0     50.0     60.0  63.333333\n",
       "各科平均   72.5     70.0     46.5  63.000000"
      ]
     },
     "execution_count": 59,
     "metadata": {},
     "output_type": "execute_result"
    }
   ],
   "source": [
    "#axis='column'表每個column計算df.mean\n",
    "df.loc['各科平均'] = df.mean(axis=0)\n",
    "df"
   ]
  },
  {
   "cell_type": "markdown",
   "id": "a335f876",
   "metadata": {},
   "source": [
    "2-7 篩選資料"
   ]
  },
  {
   "cell_type": "markdown",
   "id": "bc96caa9",
   "metadata": {},
   "source": [
    "範例2-42"
   ]
  },
  {
   "cell_type": "code",
   "execution_count": 60,
   "id": "96687cc1",
   "metadata": {},
   "outputs": [
    {
     "data": {
      "text/html": [
       "<div>\n",
       "<style scoped>\n",
       "    .dataframe tbody tr th:only-of-type {\n",
       "        vertical-align: middle;\n",
       "    }\n",
       "\n",
       "    .dataframe tbody tr th {\n",
       "        vertical-align: top;\n",
       "    }\n",
       "\n",
       "    .dataframe thead th {\n",
       "        text-align: right;\n",
       "    }\n",
       "</style>\n",
       "<table border=\"1\" class=\"dataframe\">\n",
       "  <thead>\n",
       "    <tr style=\"text-align: right;\">\n",
       "      <th></th>\n",
       "      <th>Math</th>\n",
       "      <th>English</th>\n",
       "      <th>History</th>\n",
       "      <th>個人平均</th>\n",
       "    </tr>\n",
       "  </thead>\n",
       "  <tbody>\n",
       "    <tr>\n",
       "      <th>Simon</th>\n",
       "      <td>90.0</td>\n",
       "      <td>70.0</td>\n",
       "      <td>33.0</td>\n",
       "      <td>64.333333</td>\n",
       "    </tr>\n",
       "    <tr>\n",
       "      <th>Allen</th>\n",
       "      <td>50.0</td>\n",
       "      <td>70.0</td>\n",
       "      <td>46.5</td>\n",
       "      <td>55.500000</td>\n",
       "    </tr>\n",
       "  </tbody>\n",
       "</table>\n",
       "</div>"
      ],
      "text/plain": [
       "       Math  English  History       個人平均\n",
       "Simon  90.0     70.0     33.0  64.333333\n",
       "Allen  50.0     70.0     46.5  55.500000"
      ]
     },
     "execution_count": 60,
     "metadata": {},
     "output_type": "execute_result"
    }
   ],
   "source": [
    "# 如同範例 2-26\n",
    "bool_v = [True,True,False,False,False] \n",
    "df[bool_v]"
   ]
  },
  {
   "cell_type": "markdown",
   "id": "dc2f95e4",
   "metadata": {},
   "source": [
    "範例2-43"
   ]
  },
  {
   "cell_type": "code",
   "execution_count": 61,
   "id": "7daee88d",
   "metadata": {},
   "outputs": [
    {
     "data": {
      "text/plain": [
       "Simon     True\n",
       "Allen    False\n",
       "Jimmy     True\n",
       "Peter     True\n",
       "各科平均      True\n",
       "Name: Math, dtype: bool"
      ]
     },
     "execution_count": 61,
     "metadata": {},
     "output_type": "execute_result"
    }
   ],
   "source": [
    "bool_v = df['Math'] >= 60\n",
    "bool_v"
   ]
  },
  {
   "cell_type": "markdown",
   "id": "b2e94433",
   "metadata": {},
   "source": [
    "範例2-44"
   ]
  },
  {
   "cell_type": "code",
   "execution_count": 62,
   "id": "760dd533",
   "metadata": {},
   "outputs": [
    {
     "data": {
      "text/html": [
       "<div>\n",
       "<style scoped>\n",
       "    .dataframe tbody tr th:only-of-type {\n",
       "        vertical-align: middle;\n",
       "    }\n",
       "\n",
       "    .dataframe tbody tr th {\n",
       "        vertical-align: top;\n",
       "    }\n",
       "\n",
       "    .dataframe thead th {\n",
       "        text-align: right;\n",
       "    }\n",
       "</style>\n",
       "<table border=\"1\" class=\"dataframe\">\n",
       "  <thead>\n",
       "    <tr style=\"text-align: right;\">\n",
       "      <th></th>\n",
       "      <th>Math</th>\n",
       "      <th>English</th>\n",
       "      <th>History</th>\n",
       "      <th>個人平均</th>\n",
       "    </tr>\n",
       "  </thead>\n",
       "  <tbody>\n",
       "    <tr>\n",
       "      <th>Simon</th>\n",
       "      <td>90.0</td>\n",
       "      <td>70.0</td>\n",
       "      <td>33.0</td>\n",
       "      <td>64.333333</td>\n",
       "    </tr>\n",
       "    <tr>\n",
       "      <th>Jimmy</th>\n",
       "      <td>70.0</td>\n",
       "      <td>90.0</td>\n",
       "      <td>46.5</td>\n",
       "      <td>68.833333</td>\n",
       "    </tr>\n",
       "    <tr>\n",
       "      <th>Peter</th>\n",
       "      <td>80.0</td>\n",
       "      <td>50.0</td>\n",
       "      <td>60.0</td>\n",
       "      <td>63.333333</td>\n",
       "    </tr>\n",
       "    <tr>\n",
       "      <th>各科平均</th>\n",
       "      <td>72.5</td>\n",
       "      <td>70.0</td>\n",
       "      <td>46.5</td>\n",
       "      <td>63.000000</td>\n",
       "    </tr>\n",
       "  </tbody>\n",
       "</table>\n",
       "</div>"
      ],
      "text/plain": [
       "       Math  English  History       個人平均\n",
       "Simon  90.0     70.0     33.0  64.333333\n",
       "Jimmy  70.0     90.0     46.5  68.833333\n",
       "Peter  80.0     50.0     60.0  63.333333\n",
       "各科平均   72.5     70.0     46.5  63.000000"
      ]
     },
     "execution_count": 62,
     "metadata": {},
     "output_type": "execute_result"
    }
   ],
   "source": [
    "df[bool_v]"
   ]
  },
  {
   "cell_type": "markdown",
   "id": "6d49a57c",
   "metadata": {},
   "source": [
    "2-8 用apply()讓資料處理更簡單"
   ]
  },
  {
   "cell_type": "markdown",
   "id": "c8e7de63",
   "metadata": {},
   "source": [
    "範例2-45"
   ]
  },
  {
   "cell_type": "code",
   "execution_count": 63,
   "id": "9ba68652",
   "metadata": {},
   "outputs": [
    {
     "data": {
      "text/plain": [
       "0    1\n",
       "1    2\n",
       "2    3\n",
       "3    4\n",
       "4    5\n",
       "dtype: int64"
      ]
     },
     "execution_count": 63,
     "metadata": {},
     "output_type": "execute_result"
    }
   ],
   "source": [
    "s = pd.Series([1,2,3,4,5])\n",
    "s"
   ]
  },
  {
   "cell_type": "markdown",
   "id": "874a1aaa",
   "metadata": {},
   "source": [
    "範例2-46"
   ]
  },
  {
   "cell_type": "code",
   "execution_count": 64,
   "id": "38b7a395",
   "metadata": {},
   "outputs": [
    {
     "data": {
      "text/plain": [
       "0    2\n",
       "1    1\n",
       "2    4\n",
       "3    3\n",
       "4    6\n",
       "dtype: int64"
      ]
     },
     "execution_count": 64,
     "metadata": {},
     "output_type": "execute_result"
    }
   ],
   "source": [
    "s.apply(lambda x: x+1 if (x%2)==1 else x-1)"
   ]
  },
  {
   "cell_type": "code",
   "execution_count": 65,
   "id": "171f3fe7",
   "metadata": {},
   "outputs": [
    {
     "data": {
      "text/plain": [
       "0    1\n",
       "1    3\n",
       "2    2\n",
       "3    4\n",
       "4    6\n",
       "dtype: int64"
      ]
     },
     "execution_count": 65,
     "metadata": {},
     "output_type": "execute_result"
    }
   ],
   "source": [
    "s.apply(lambda x: x if (x%3)==1 else x+1 if (x%3)==2 else x-1)"
   ]
  },
  {
   "cell_type": "code",
   "execution_count": 66,
   "id": "c92927e4",
   "metadata": {},
   "outputs": [
    {
     "data": {
      "text/plain": [
       "Simon    90.0\n",
       "Allen    70.0\n",
       "Jimmy    90.0\n",
       "Peter    80.0\n",
       "各科平均     72.5\n",
       "dtype: float64"
      ]
     },
     "execution_count": 66,
     "metadata": {},
     "output_type": "execute_result"
    }
   ],
   "source": [
    "df.apply(max, axis=1)"
   ]
  },
  {
   "cell_type": "markdown",
   "id": "fb54c366",
   "metadata": {},
   "source": [
    "範例2-47"
   ]
  },
  {
   "cell_type": "code",
   "execution_count": 67,
   "id": "2bb75bf4",
   "metadata": {},
   "outputs": [
    {
     "data": {
      "text/html": [
       "<div>\n",
       "<style scoped>\n",
       "    .dataframe tbody tr th:only-of-type {\n",
       "        vertical-align: middle;\n",
       "    }\n",
       "\n",
       "    .dataframe tbody tr th {\n",
       "        vertical-align: top;\n",
       "    }\n",
       "\n",
       "    .dataframe thead th {\n",
       "        text-align: right;\n",
       "    }\n",
       "</style>\n",
       "<table border=\"1\" class=\"dataframe\">\n",
       "  <thead>\n",
       "    <tr style=\"text-align: right;\">\n",
       "      <th></th>\n",
       "      <th>Math</th>\n",
       "      <th>History</th>\n",
       "    </tr>\n",
       "  </thead>\n",
       "  <tbody>\n",
       "    <tr>\n",
       "      <th>Simon</th>\n",
       "      <td>900</td>\n",
       "      <td>33.0</td>\n",
       "    </tr>\n",
       "    <tr>\n",
       "      <th>Allen</th>\n",
       "      <td>50</td>\n",
       "      <td>75.0</td>\n",
       "    </tr>\n",
       "    <tr>\n",
       "      <th>Jimmy</th>\n",
       "      <td>730</td>\n",
       "      <td>NaN</td>\n",
       "    </tr>\n",
       "    <tr>\n",
       "      <th>Peter</th>\n",
       "      <td>80</td>\n",
       "      <td>NaN</td>\n",
       "    </tr>\n",
       "  </tbody>\n",
       "</table>\n",
       "</div>"
      ],
      "text/plain": [
       "       Math  History\n",
       "Simon   900     33.0\n",
       "Allen    50     75.0\n",
       "Jimmy   730      NaN\n",
       "Peter    80      NaN"
      ]
     },
     "execution_count": 67,
     "metadata": {},
     "output_type": "execute_result"
    }
   ],
   "source": [
    "scores = {'Math':[900,50,730,80],\n",
    "          'History':[33,75,np.NaN,np.NaN]}\n",
    "df = pd.DataFrame(scores, index = ['Simon','Allen','Jimmy','Peter'])\n",
    "df"
   ]
  },
  {
   "cell_type": "markdown",
   "id": "2324dd70",
   "metadata": {},
   "source": [
    "範例2-48"
   ]
  },
  {
   "cell_type": "code",
   "execution_count": 68,
   "id": "691f1d93",
   "metadata": {},
   "outputs": [
    {
     "data": {
      "text/plain": [
       "Math       900.0\n",
       "History     75.0\n",
       "dtype: float64"
      ]
     },
     "execution_count": 68,
     "metadata": {},
     "output_type": "execute_result"
    }
   ],
   "source": [
    "df.apply(max)"
   ]
  },
  {
   "cell_type": "markdown",
   "id": "9557244a",
   "metadata": {},
   "source": [
    "範例2-49"
   ]
  },
  {
   "cell_type": "code",
   "execution_count": 69,
   "id": "e2654363",
   "metadata": {},
   "outputs": [
    {
     "data": {
      "text/plain": [
       "Simon    900.0\n",
       "Allen     75.0\n",
       "Jimmy    730.0\n",
       "Peter     80.0\n",
       "dtype: float64"
      ]
     },
     "execution_count": 69,
     "metadata": {},
     "output_type": "execute_result"
    }
   ],
   "source": [
    "df.apply(max, axis=1)"
   ]
  }
 ],
 "metadata": {
  "kernelspec": {
   "display_name": "Python 3 (ipykernel)",
   "language": "python",
   "name": "python3"
  },
  "language_info": {
   "codemirror_mode": {
    "name": "ipython",
    "version": 3
   },
   "file_extension": ".py",
   "mimetype": "text/x-python",
   "name": "python",
   "nbconvert_exporter": "python",
   "pygments_lexer": "ipython3",
   "version": "3.9.17"
  }
 },
 "nbformat": 4,
 "nbformat_minor": 5
}

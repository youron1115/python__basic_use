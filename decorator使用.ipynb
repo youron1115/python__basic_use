{
 "cells": [
  {
   "cell_type": "markdown",
   "metadata": {},
   "source": [
    "decorator"
   ]
  },
  {
   "cell_type": "markdown",
   "metadata": {},
   "source": [
    "syntax candy（語法糖、語法糖衣）就是讓語法簡化的語法，可能原先要寫數十行的 code，若該語言有提供對應的 syntax candy，很可能寫個幾行或是寫個符號上去，就可以輕鬆完成了"
   ]
  },
  {
   "cell_type": "code",
   "execution_count": 3,
   "metadata": {},
   "outputs": [
    {
     "name": "stdout",
     "output_type": "stream",
     "text": [
      "Now use function 'dog_bark'\n",
      "Bark !!!\n"
     ]
    }
   ],
   "source": [
    "def print_func_name(func):\n",
    "    def wrap():\n",
    "        print(\"Now use function '{}'\".format(func.__name__))\n",
    "        func()\n",
    "    return wrap\n",
    "\n",
    "\n",
    "def dog_bark():\n",
    "    print(\"Bark !!!\")\n",
    "\n",
    "\n",
    "def cat_miaow():\n",
    "    print(\"Miaow ~~~\")\n",
    "    \n",
    "print_func_name(dog_bark)()"
   ]
  },
  {
   "cell_type": "markdown",
   "metadata": {},
   "source": [
    "在 Python 中，function 的地位和 C++、Java等不同，是屬於 ”First-class Citizen” (一等公民)，故稱作 ”First-class function” (一級函數、頭等函數)。簡單來說，就是 function 也可以當成參數傳遞並執行"
   ]
  },
  {
   "cell_type": "code",
   "execution_count": 4,
   "metadata": {},
   "outputs": [
    {
     "name": "stdout",
     "output_type": "stream",
     "text": [
      "Now use function 'dog_bark'\n",
      "Bark !!!\n"
     ]
    }
   ],
   "source": [
    "def print_func_name(func):\n",
    "    def warp():\n",
    "        print(\"Now use function '{}'\".format(func.__name__))\n",
    "        func()\n",
    "    return warp\n",
    "\n",
    "\n",
    "@print_func_name\n",
    "def dog_bark():\n",
    "    print(\"Bark !!!\")\n",
    "\n",
    "\n",
    "@print_func_name\n",
    "def cat_miaow():\n",
    "    print(\"Miaow ~~~\")\n",
    "\n",
    "dog_bark()"
   ]
  },
  {
   "cell_type": "code",
   "execution_count": 18,
   "metadata": {},
   "outputs": [
    {
     "name": "stdout",
     "output_type": "stream",
     "text": [
      "200\n",
      "10\n"
     ]
    }
   ],
   "source": [
    "def return_a(inputs):\n",
    "    def decorators():\n",
    "        print(10*20)\n",
    "        inputs()\n",
    "    \"\"\"\n",
    "    #return decorators()#會出現'NoneType' object is not callable\n",
    "    因為上例中若print(func())，結果為None，所以會出現'NoneType' object is not callable\n",
    "    \"\"\"\n",
    "    return decorators\n",
    "\n",
    "@return_a\n",
    "def return_10_multiply_20():\n",
    "    print(10)\n",
    "    return 10\n",
    "\n",
    "\n",
    "if __name__==\"__main__\":\n",
    "    return_10_multiply_20()"
   ]
  },
  {
   "cell_type": "code",
   "execution_count": 20,
   "metadata": {},
   "outputs": [
    {
     "name": "stdout",
     "output_type": "stream",
     "text": [
      "y 2\n",
      "執行func(x+y,y)\n",
      "a-b 1\n"
     ]
    }
   ],
   "source": [
    "def deco(func):\n",
    "    def message(x,y):\n",
    "        print(\"y\",y)\n",
    "        print(\"執行func(x+y,y)\")\n",
    "        func(x+y,y)\n",
    "    return message\n",
    "\n",
    "@deco\n",
    "def funcs(a,b):\n",
    "    print(\"a-b\",a-b)\n",
    "\n",
    "if __name__==\"__main__\":\n",
    "    funcs(1,2)"
   ]
  }
 ],
 "metadata": {
  "kernelspec": {
   "display_name": "base",
   "language": "python",
   "name": "python3"
  },
  "language_info": {
   "codemirror_mode": {
    "name": "ipython",
    "version": 3
   },
   "file_extension": ".py",
   "mimetype": "text/x-python",
   "name": "python",
   "nbconvert_exporter": "python",
   "pygments_lexer": "ipython3",
   "version": "3.9.17"
  }
 },
 "nbformat": 4,
 "nbformat_minor": 2
}
